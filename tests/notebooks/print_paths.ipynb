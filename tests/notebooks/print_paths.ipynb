{
 "cells": [
  {
   "cell_type": "markdown",
   "metadata": {},
   "source": [
    "# Test Notebook\n",
    "\n",
    "This notebook has output cells that include the absolute path to the project directory. These cells' output should be replaced by `nb-strip-paths`.\n",
    "\n",
    "To test this, first execute all notebook cells. The outputs should include the absolute path to the project directory.\n",
    "\n",
    "Next, run `nb-strip-paths tests/print_paths.ipynb`. Reload the notebook. The project directory paths should now be relative to the project root."
   ]
  },
  {
   "cell_type": "code",
   "execution_count": 1,
   "metadata": {},
   "outputs": [],
   "source": [
    "import sys\n",
    "from pathlib import Path\n",
    "\n",
    "target_replacement = str(\n",
    "    Path.cwd() / \"test_directory_that_does_not_exist\" / \"some_file.txt\"\n",
    ")"
   ]
  },
  {
   "cell_type": "code",
   "execution_count": 2,
   "metadata": {},
   "outputs": [
    {
     "name": "stdout",
     "output_type": "stream",
     "text": [
      "tests/notebooks/test_directory_that_does_not_exist/some_file.txt\n"
     ]
    }
   ],
   "source": [
    "# One path on one line\n",
    "print(target_replacement)"
   ]
  },
  {
   "cell_type": "code",
   "execution_count": 3,
   "metadata": {},
   "outputs": [
    {
     "name": "stdout",
     "output_type": "stream",
     "text": [
      "tests/notebooks/test_directory_that_does_not_exist/some_file.txt tests/notebooks/test_directory_that_does_not_exist/some_file.txt\n"
     ]
    }
   ],
   "source": [
    "# Two paths on one line\n",
    "print(target_replacement + \" \" + target_replacement)"
   ]
  },
  {
   "cell_type": "code",
   "execution_count": 4,
   "metadata": {},
   "outputs": [
    {
     "name": "stdout",
     "output_type": "stream",
     "text": [
      "tests/notebooks/test_directory_that_does_not_exist/some_file.txt\n",
      "tests/notebooks/test_directory_that_does_not_exist/some_file.txt\n"
     ]
    }
   ],
   "source": [
    "# Two paths on two lines\n",
    "print(target_replacement)\n",
    "print(target_replacement)"
   ]
  },
  {
   "cell_type": "code",
   "execution_count": 5,
   "metadata": {},
   "outputs": [
    {
     "name": "stdout",
     "output_type": "stream",
     "text": [
      "tests/notebooks/test_directory_that_does_not_exist/some_file.txt\n"
     ]
    },
    {
     "name": "stderr",
     "output_type": "stream",
     "text": [
      "tests/notebooks/test_directory_that_does_not_exist/some_file.txt\n"
     ]
    },
    {
     "name": "stdout",
     "output_type": "stream",
     "text": [
      "tests/notebooks/test_directory_that_does_not_exist/some_file.txt\n"
     ]
    },
    {
     "name": "stderr",
     "output_type": "stream",
     "text": [
      "tests/notebooks/test_directory_that_does_not_exist/some_file.txt\n"
     ]
    }
   ],
   "source": [
    "# Test stdout and stderr\n",
    "print(target_replacement, flush=True)\n",
    "print(target_replacement, file=sys.stderr, flush=True)\n",
    "print(target_replacement, flush=True)\n",
    "print(target_replacement, file=sys.stderr, flush=True)"
   ]
  },
  {
   "cell_type": "code",
   "execution_count": 6,
   "metadata": {},
   "outputs": [
    {
     "name": "stdout",
     "output_type": "stream",
     "text": [
      "{'key': 'tests/notebooks/test_directory_that_does_not_exist/some_file.txt'}\n"
     ]
    }
   ],
   "source": [
    "# Test a dict\n",
    "print({\"key\": target_replacement})"
   ]
  }
 ],
 "metadata": {
  "kernelspec": {
   "display_name": "Python 3",
   "language": "python",
   "name": "python3"
  },
  "language_info": {
   "codemirror_mode": {
    "name": "ipython"
   },
   "file_extension": ".py",
   "mimetype": "text/x-python",
   "name": "python",
   "nbconvert_exporter": "python"
  }
 },
 "nbformat": 4,
 "nbformat_minor": 4
}
